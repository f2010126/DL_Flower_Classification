{
  "nbformat": 4,
  "nbformat_minor": 0,
  "metadata": {
    "colab": {
      "name": "DLComp.ipynb",
      "provenance": [],
      "authorship_tag": "ABX9TyPKiMAtA7ul3y+YnnLrPN9g",
      "include_colab_link": true
    },
    "kernelspec": {
      "name": "python3",
      "display_name": "Python 3"
    },
    "accelerator": "GPU"
  },
  "cells": [
    {
      "cell_type": "markdown",
      "metadata": {
        "id": "view-in-github",
        "colab_type": "text"
      },
      "source": [
        "<a href=\"https://colab.research.google.com/github/f2010126/CodeworkWS2021/blob/main/DLCompJan15.ipynb\" target=\"_parent\"><img src=\"https://colab.research.google.com/assets/colab-badge.svg\" alt=\"Open In Colab\"/></a>"
      ]
    },
    {
      "cell_type": "markdown",
      "metadata": {
        "id": "wPmhED-bFIHh"
      },
      "source": [
        "Add Drive\n"
      ]
    },
    {
      "cell_type": "code",
      "metadata": {
        "colab": {
          "base_uri": "https://localhost:8080/"
        },
        "id": "r9Z4_o3gFLsL",
        "outputId": "70b94d28-310a-45b1-a65b-4d673fd40a09"
      },
      "source": [
        "from google.colab import drive\n",
        "drive.mount('/content/drive')"
      ],
      "execution_count": null,
      "outputs": [
        {
          "output_type": "stream",
          "text": [
            "Drive already mounted at /content/drive; to attempt to forcibly remount, call drive.mount(\"/content/drive\", force_remount=True).\n"
          ],
          "name": "stdout"
        }
      ]
    },
    {
      "cell_type": "markdown",
      "metadata": {
        "id": "pm-fPrvH4S91"
      },
      "source": [
        "Code from evaluate.py"
      ]
    },
    {
      "cell_type": "code",
      "metadata": {
        "id": "4S3lB3hny_Kr"
      },
      "source": [
        "import os\n",
        "import torch\n",
        "\n",
        "from tqdm import tqdm\n",
        "from torchvision.datasets import ImageFolder\n",
        "from torch.utils.data import DataLoader\n",
        "# commented for notebook\n",
        "# from src.cnn import *\n",
        "\n",
        "\n",
        "device = torch.device('cuda:0' if torch.cuda.is_available() else 'cpu')\n",
        "\n",
        "class AverageMeter(object):\n",
        "\n",
        "    def __init__(self):\n",
        "        self.reset()\n",
        "\n",
        "    def reset(self):\n",
        "        self.avg = 0\n",
        "        self.sum = 0\n",
        "        self.cnt = 0\n",
        "\n",
        "    def update(self, val, n=1):\n",
        "        self.sum += val * n\n",
        "        self.cnt += n\n",
        "        self.avg = self.sum / self.cnt\n",
        "\n",
        "def accuracy(logits, labels):\n",
        "    preds = torch.argmax(logits, axis=1)\n",
        "    return torch.sum(preds == labels) / len(labels)\n",
        "\n",
        "def eval_fn(model, loader, device, train=False):\n",
        "    \"\"\"\n",
        "    Evaluation method\n",
        "    :param model: model to evaluate\n",
        "    :param loader: data loader for either training or testing set\n",
        "    :param device: torch device\n",
        "    :param train: boolean to indicate if training or test set is used\n",
        "    :return: accuracy on the data\n",
        "    \"\"\"\n",
        "    score = AverageMeter()\n",
        "    model.eval()\n",
        "\n",
        "    t = tqdm(loader)\n",
        "    with torch.no_grad():  # no gradient needed\n",
        "        for images, labels in t:\n",
        "            images = images.to(device)\n",
        "            labels = labels.to(device)\n",
        "\n",
        "            outputs = model(images)\n",
        "            acc = accuracy(outputs, labels)\n",
        "            score.update(acc.item(), images.size(0))\n",
        "\n",
        "            t.set_description('(=> Test) Score: {:.4f}'.format(score.avg))\n",
        "\n",
        "    return score.avg\n",
        "\n",
        "def eval_model(model, saved_model_file, test_data_dir, data_augmentations):\n",
        "    model = model.to(device)\n",
        "    model.load_state_dict(torch.load(os.path.join(os.getcwd(), 'models', saved_model_file)))\n",
        "    data = ImageFolder(test_data_dir, transform=data_augmentations)\n",
        "\n",
        "    test_loader = DataLoader(dataset=data,\n",
        "                             batch_size=128,\n",
        "                             shuffle=False)\n",
        "\n",
        "    score = eval_fn(model, test_loader, device, train=False)\n",
        "\n",
        "    print('Avg accuracy:', str(score*100) + '%')\n"
      ],
      "execution_count": null,
      "outputs": []
    },
    {
      "cell_type": "markdown",
      "metadata": {
        "id": "b3fpLM3r41gu"
      },
      "source": [
        "cnn.py\n"
      ]
    },
    {
      "cell_type": "code",
      "metadata": {
        "id": "856zY24U4gtS"
      },
      "source": [
        "\"\"\" File with CNN models. Add your custom CNN model here. \"\"\"\n",
        "\n",
        "import torch.nn as nn\n",
        "import torch.nn.functional as F\n",
        "\n",
        "\n",
        "class SampleModel(nn.Module):\n",
        "    \"\"\"\n",
        "    A sample PyTorch CNN model\n",
        "    \"\"\"\n",
        "    def __init__(self, input_shape=(3, 64, 64), num_classes=10):\n",
        "        super(SampleModel, self).__init__()\n",
        "        self.conv1 = nn.Conv2d(in_channels=input_shape[0], out_channels=10, kernel_size=(3,3), padding=(1,1))\n",
        "        self.conv2 = nn.Conv2d(in_channels=10, out_channels=20, kernel_size=(3,3), padding=(1,1))\n",
        "        self.pool = nn.MaxPool2d(3, stride=2)\n",
        "        # The input features for the linear layer depends on the size of the input to the convolutional layer\n",
        "        # So if you resize your image in data augmentations, you'll have to tweak this too.\n",
        "        self.fc1 = nn.Linear(in_features=4500, out_features=32)\n",
        "        self.fc2 = nn.Linear(in_features=32, out_features=num_classes)\n",
        "\n",
        "    def forward(self, x):\n",
        "        x = self.conv1(x)\n",
        "        x = self.pool(x)\n",
        "        x = self.conv2(x)\n",
        "        x = self.pool(x)\n",
        "\n",
        "        x = x.view(x.size(0), -1)\n",
        "        x = self.fc1(x)\n",
        "        x = F.relu(x)\n",
        "        x = self.fc2(x)\n",
        "\n",
        "        return x\n"
      ],
      "execution_count": null,
      "outputs": []
    },
    {
      "cell_type": "code",
      "metadata": {
        "id": "SwdeyRIOal85"
      },
      "source": [
        "import torch.nn as nn\n",
        "import torch.nn.functional as F\n",
        "\n",
        "# python -m src.main --model SmallCNN --epochs 25\n",
        "class SmallCNN(nn.Module):\n",
        "    def __init__(self, input_shape=(3, 64, 64), num_classes=10):\n",
        "        super(SmallCNN, self).__init__()\n",
        "        self.conv1 = nn.Conv2d(in_channels=input_shape[0], out_channels=6, kernel_size=3, padding=0, stride=1)\n",
        "        self.conv2 = nn.Conv2d(in_channels=6, out_channels=16, kernel_size=3, stride=1, padding=0)\n",
        "        self.conv3 = nn.Conv2d(in_channels=16, out_channels=120, kernel_size=3, stride=1, padding=0)\n",
        "        self.pool = nn.MaxPool2d(2, 2)\n",
        "        self.fc1 = nn.Linear(17280, 128) # <--\n",
        "        self.fc2 = nn.Linear(128, num_classes)\n",
        "\n",
        "    def forward(self, x):\n",
        "        x = self.pool(F.relu(self.conv1(x)))\n",
        "        x = self.pool(F.relu(self.conv2(x)))\n",
        "        x = F.relu(self.conv3(x))\n",
        "        x = x.view(x.size(0), -1)\n",
        "        x = self.fc1(x)\n",
        "        x = F.relu(x)\n",
        "        x = self.fc2(x)\n",
        "        return x"
      ],
      "execution_count": null,
      "outputs": []
    },
    {
      "cell_type": "markdown",
      "metadata": {
        "id": "s5yLlG8x5Qho"
      },
      "source": [
        "data_augmentations.py"
      ]
    },
    {
      "cell_type": "code",
      "metadata": {
        "id": "gwOpmzCE40MX"
      },
      "source": [
        "from torchvision import datasets, transforms\n",
        "import torch.nn as nn\n",
        "\n",
        "resize_to_64x64 = transforms.Compose([\n",
        "    transforms.Resize((64, 64)),\n",
        "    transforms.ToTensor()\n",
        "])\n",
        "\n",
        "resize_and_colour_jitter = transforms.Compose([\n",
        "    transforms.Resize((64, 64)),\n",
        "    transforms.ColorJitter(brightness=0.1, contrast=0.1),\n",
        "    transforms.ToTensor()\n",
        "])\n"
      ],
      "execution_count": null,
      "outputs": []
    },
    {
      "cell_type": "markdown",
      "metadata": {
        "id": "NdsrlvC05q1Y"
      },
      "source": [
        "training.py"
      ]
    },
    {
      "cell_type": "code",
      "metadata": {
        "id": "QZeDOCOo5pbW"
      },
      "source": [
        "from tqdm import tqdm\n",
        "import time\n",
        "import torch\n",
        "import numpy as np\n",
        "\n",
        "# commented for notebook\n",
        "# from src.eval.evaluate import AverageMeter, accuracy\n",
        "\n",
        "def train_fn(model, optimizer, criterion, loader, device, train=True):\n",
        "    \"\"\"\n",
        "  Training method\n",
        "  :param model: model to train\n",
        "  :param optimizer: optimization algorithm\n",
        "  :criterion: loss function\n",
        "  :param loader: data loader for either training or testing set\n",
        "  :param device: torch device\n",
        "  :param train: boolean to indicate if training or test set is used\n",
        "  :return: (accuracy, loss) on the data\n",
        "  \"\"\"\n",
        "    time_begin = time.time()\n",
        "    score = AverageMeter()\n",
        "    losses = AverageMeter()\n",
        "    model.train()\n",
        "    time_train = 0\n",
        "\n",
        "    t = tqdm(loader)\n",
        "    for images, labels in t:\n",
        "        images = images.to(device)\n",
        "        labels = labels.to(device)\n",
        "\n",
        "        optimizer.zero_grad()\n",
        "        logits = model(images)\n",
        "        loss = criterion(logits, labels)\n",
        "        loss.backward()\n",
        "        optimizer.step()\n",
        "\n",
        "        acc = accuracy(logits, labels)\n",
        "        n = images.size(0)\n",
        "        losses.update(loss.item(), n)\n",
        "        score.update(acc.item(), n)\n",
        "\n",
        "        t.set_description('(=> Training) Loss: {:.4f}'.format(losses.avg))\n",
        "\n",
        "    time_train += time.time() - time_begin\n",
        "    print('training time: ' + str(time_train))\n",
        "    return score.avg, losses.avg"
      ],
      "execution_count": null,
      "outputs": []
    },
    {
      "cell_type": "markdown",
      "metadata": {
        "id": "y2N3TSeE5jYR"
      },
      "source": [
        "main.py"
      ]
    },
    {
      "cell_type": "code",
      "metadata": {
        "colab": {
          "base_uri": "https://localhost:8080/"
        },
        "id": "PDsj41Ah5b3G",
        "outputId": "887a5e7b-79fa-40f2-f385-0eb8ff8950f1"
      },
      "source": [
        "import os\n",
        "import argparse\n",
        "import logging\n",
        "import time\n",
        "import numpy as np\n",
        "\n",
        "import torch\n",
        "import torchvision.transforms as transforms\n",
        "from torch.utils.data import DataLoader, Subset, ConcatDataset\n",
        "from torchsummary import summary\n",
        "from torchvision.datasets import ImageFolder\n",
        "\n",
        "# commented for notebook\n",
        "# from src.cnn import *\n",
        "# from src.eval.evaluate import eval_fn, accuracy\n",
        "# from src.training import train_fn\n",
        "# from src.data_augmentations import *\n",
        "\n",
        "\n",
        "data_dir ='/content/drive/My Drive/DEEP_LEARNING/DLCOMP/dataset'\n",
        "\n",
        "def main(data_dir,\n",
        "         torch_model,\n",
        "         num_epochs=10,\n",
        "         batch_size=50,\n",
        "         learning_rate=0.001,\n",
        "         train_criterion=torch.nn.CrossEntropyLoss,\n",
        "         model_optimizer=torch.optim.Adam,\n",
        "         data_augmentations=None,\n",
        "         save_model_str=None,\n",
        "         use_all_data_to_train=False,\n",
        "         exp_name=''):\n",
        "    \"\"\"\n",
        "    Training loop for configurableNet.\n",
        "    :param data_dir: dataset path (str)\n",
        "    :param num_epochs: (int)\n",
        "    :param batch_size: (int)\n",
        "    :param learning_rate: model optimizer learning rate (float)\n",
        "    :param train_criterion: Which loss to use during training (torch.nn._Loss)\n",
        "    :param model_optimizer: Which model optimizer to use during trainnig (torch.optim.Optimizer)\n",
        "    :param data_augmentations: List of data augmentations to apply such as rescaling.\n",
        "        (list[transformations], transforms.Composition[list[transformations]], None)\n",
        "        If none only ToTensor is used\n",
        "    :return:\n",
        "    \"\"\"\n",
        "\n",
        "    # Device configuration\n",
        "    device = torch.device('cuda:0' if torch.cuda.is_available() else 'cpu')\n",
        "\n",
        "    if data_augmentations is None:\n",
        "        data_augmentations = transforms.ToTensor()\n",
        "    elif isinstance(data_augmentations, list):\n",
        "        data_augmentations = transforms.Compose(data_augmentations)\n",
        "    elif not isinstance(data_augmentations, transforms.Compose):\n",
        "        raise NotImplementedError\n",
        "\n",
        "    # Load the dataset\n",
        "    train_data = ImageFolder(os.path.join(data_dir, 'train'), transform=data_augmentations)\n",
        "    val_data = ImageFolder(os.path.join(data_dir, 'val'), transform=data_augmentations)\n",
        "    test_data = ImageFolder(os.path.join(data_dir, 'test'), transform=data_augmentations)\n",
        "\n",
        "    channels, img_height, img_width = train_data[0][0].shape\n",
        "\n",
        "    # image size\n",
        "    input_shape = (channels, img_height, img_width)\n",
        "\n",
        "    # instantiate training criterion\n",
        "    train_criterion = train_criterion().to(device)\n",
        "    score = []\n",
        "\n",
        "    if use_all_data_to_train:\n",
        "        train_loader = DataLoader(dataset=ConcatDataset([train_data, val_data, test_data]),\n",
        "                                  batch_size=batch_size,\n",
        "                                  shuffle=True)\n",
        "        logging.warning('Training with all the data (train, val and test).')\n",
        "    else:\n",
        "        train_loader = DataLoader(dataset=train_data,\n",
        "                                  batch_size=batch_size,\n",
        "                                  shuffle=True)\n",
        "        val_loader = DataLoader(dataset=val_data,\n",
        "                                 batch_size=batch_size,\n",
        "                                 shuffle=False)\n",
        "\n",
        "    model = torch_model(input_shape=input_shape,\n",
        "                        num_classes=len(train_data.classes)).to(device)\n",
        "\n",
        "    # instantiate optimizer\n",
        "    optimizer = model_optimizer(model.parameters(), lr=learning_rate)\n",
        "\n",
        "    # Info about the model being trained\n",
        "    # You can find the number of learnable parameters in the model here\n",
        "    logging.info('Model being trained:')\n",
        "    summary(model, input_shape,\n",
        "            device='cuda' if torch.cuda.is_available() else 'cpu')\n",
        "\n",
        "    # Train the model\n",
        "    for epoch in range(num_epochs):\n",
        "        logging.info('#' * 50)\n",
        "        logging.info('Epoch [{}/{}]'.format(epoch + 1, num_epochs))\n",
        "\n",
        "        train_score, train_loss = train_fn(model, optimizer, train_criterion, train_loader, device)\n",
        "        logging.info('Train accuracy: %f', train_score)\n",
        "\n",
        "        if not use_all_data_to_train:\n",
        "            test_score = eval_fn(model, val_loader, device)\n",
        "            logging.info('Validation accuracy: %f', test_score)\n",
        "            score.append(test_score)\n",
        "\n",
        "    if save_model_str:\n",
        "        # Save the model checkpoint can be restored via \"model = torch.load(save_model_str)\"\n",
        "        model_save_dir = os.path.join(os.getcwd(), save_model_str)\n",
        "\n",
        "        if not os.path.exists(model_save_dir):\n",
        "            os.mkdir(model_save_dir)\n",
        "\n",
        "        save_model_str = os.path.join(model_save_dir, exp_name + '_model_' + str(int(time.time())))\n",
        "        torch.save(model.state_dict(), save_model_str)\n",
        "\n",
        "    if not use_all_data_to_train:\n",
        "        logging.info('Accuracy at each epoch: ' + str(score))\n",
        "        logging.info('Mean of accuracies across all epochs: ' + str(100*np.mean(score))+'%')\n",
        "        logging.info('Accuracy of model at final epoch: ' + str(100*score[-1])+'%')\n",
        "\n",
        "\n",
        "\n",
        "if __name__ == '__main__':\n",
        "    \"\"\"\n",
        "    This is just an example of a training pipeline.\n",
        "\n",
        "    Feel free to add or remove more arguments, change default values or hardcode parameters to use.\n",
        "    \"\"\"\n",
        "    loss_dict = {'cross_entropy': torch.nn.CrossEntropyLoss} # Feel free to add more\n",
        "    opti_dict = {'sgd': torch.optim.SGD, 'adam': torch.optim.Adam} # Feel free to add more\n",
        "\n",
        "    cmdline_parser = argparse.ArgumentParser('DL WS20/21 Competition')\n",
        "\n",
        "    cmdline_parser.add_argument('-m', '--model',\n",
        "                                default='SmallCNN',\n",
        "                                help='Class name of model to train',\n",
        "                                type=str)\n",
        "    cmdline_parser.add_argument('-e', '--epochs',\n",
        "                                default=50,\n",
        "                                help='Number of epochs',\n",
        "                                type=int)\n",
        "    cmdline_parser.add_argument('-b', '--batch_size',\n",
        "                                default=282,\n",
        "                                help='Batch size',\n",
        "                                type=int)\n",
        "    # cmdline_parser.add_argument('-D', '--data_dir',\n",
        "    #                             default=os.path.join(os.path.dirname(os.path.abspath(__file__)),\n",
        "    #                                                  '..', 'dataset'),\n",
        "    #                             help='Directory in which the data is stored (can be downloaded)')\n",
        "    cmdline_parser.add_argument('-l', '--learning_rate',\n",
        "                                default=2.244958736283895e-05,\n",
        "                                help='Optimizer learning rate',\n",
        "                                type=float)\n",
        "    cmdline_parser.add_argument('-L', '--training_loss',\n",
        "                                default='cross_entropy',\n",
        "                                help='Which loss to use during training',\n",
        "                                choices=list(loss_dict.keys()),\n",
        "                                type=str)\n",
        "    cmdline_parser.add_argument('-o', '--optimizer',\n",
        "                                default='adam',\n",
        "                                help='Which optimizer to use during training',\n",
        "                                choices=list(opti_dict.keys()),\n",
        "                                type=str)\n",
        "    cmdline_parser.add_argument('-p', '--model_path',\n",
        "                                default='models',\n",
        "                                help='Path to store model',\n",
        "                                type=str)\n",
        "    cmdline_parser.add_argument('-v', '--verbose',\n",
        "                                default='INFO',\n",
        "                                choices=['INFO', 'DEBUG'],\n",
        "                                help='verbosity')\n",
        "    cmdline_parser.add_argument('-n', '--exp_name',\n",
        "                                default='default',\n",
        "                                help='Name of this experiment',\n",
        "                                type=str)\n",
        "    cmdline_parser.add_argument('-d', '--data-augmentation',\n",
        "                                default='resize_and_colour_jitter',\n",
        "                                help='Data augmentation to apply to data before passing to the model.'\n",
        "                                + 'Must be available in data_augmentations.py')\n",
        "    cmdline_parser.add_argument('-a', '--use-all-data-to-train',\n",
        "                                action='store_true',\n",
        "                                help='Uses the train, validation, and test data to train the model if enabled.')\n",
        "\n",
        "    args, unknowns = cmdline_parser.parse_known_args()\n",
        "    log_lvl = logging.INFO if args.verbose == 'INFO' else logging.DEBUG\n",
        "    logging.basicConfig(level=log_lvl)\n",
        "\n",
        "    if unknowns:\n",
        "        logging.warning('Found unknown arguments!')\n",
        "        logging.warning(str(unknowns))\n",
        "        logging.warning('These will be ignored')\n",
        "\n",
        "    main(\n",
        "        data_dir=data_dir,\n",
        "        torch_model=eval(args.model),\n",
        "        num_epochs=args.epochs,\n",
        "        batch_size=args.batch_size,\n",
        "        learning_rate=args.learning_rate,\n",
        "        train_criterion=loss_dict[args.training_loss],\n",
        "        model_optimizer=opti_dict[args.optimizer],\n",
        "        data_augmentations=eval(args.data_augmentation),  # Check data_augmentations.py for sample augmentations\n",
        "        save_model_str=args.model_path,\n",
        "        exp_name=args.exp_name,\n",
        "        use_all_data_to_train=args.use_all_data_to_train\n",
        "    )\n"
      ],
      "execution_count": null,
      "outputs": [
        {
          "output_type": "stream",
          "text": [
            "WARNING:root:Found unknown arguments!\n",
            "WARNING:root:['-f', '/root/.local/share/jupyter/runtime/kernel-de48aba6-ba4f-434b-b166-e2b4f9f4d128.json']\n",
            "WARNING:root:These will be ignored\n",
            "INFO:root:Model being trained:\n",
            "INFO:root:##################################################\n",
            "INFO:root:Epoch [1/50]\n",
            "  0%|          | 0/2 [00:00<?, ?it/s]"
          ],
          "name": "stderr"
        },
        {
          "output_type": "stream",
          "text": [
            "----------------------------------------------------------------\n",
            "        Layer (type)               Output Shape         Param #\n",
            "================================================================\n",
            "            Conv2d-1            [-1, 6, 62, 62]             168\n",
            "         MaxPool2d-2            [-1, 6, 31, 31]               0\n",
            "            Conv2d-3           [-1, 16, 29, 29]             880\n",
            "         MaxPool2d-4           [-1, 16, 14, 14]               0\n",
            "            Conv2d-5          [-1, 120, 12, 12]          17,400\n",
            "            Linear-6                  [-1, 128]       2,211,968\n",
            "            Linear-7                   [-1, 10]           1,290\n",
            "================================================================\n",
            "Total params: 2,231,706\n",
            "Trainable params: 2,231,706\n",
            "Non-trainable params: 0\n",
            "----------------------------------------------------------------\n",
            "Input size (MB): 0.05\n",
            "Forward/backward pass size (MB): 0.48\n",
            "Params size (MB): 8.51\n",
            "Estimated Total Size (MB): 9.04\n",
            "----------------------------------------------------------------\n"
          ],
          "name": "stdout"
        },
        {
          "output_type": "stream",
          "text": [
            "(=> Training) Loss: 2.3038: 100%|██████████| 2/2 [01:53<00:00, 56.52s/it]\n",
            "INFO:root:Train accuracy: 0.100000\n",
            "  0%|          | 0/1 [00:00<?, ?it/s]"
          ],
          "name": "stderr"
        },
        {
          "output_type": "stream",
          "text": [
            "training time: 113.03406548500061\n"
          ],
          "name": "stdout"
        },
        {
          "output_type": "stream",
          "text": [
            "(=> Test) Score: 0.1100: 100%|██████████| 1/1 [00:54<00:00, 54.61s/it]\n",
            "INFO:root:Validation accuracy: 0.110000\n",
            "INFO:root:##################################################\n",
            "INFO:root:Epoch [2/50]\n",
            "(=> Training) Loss: 2.3000: 100%|██████████| 2/2 [00:02<00:00,  1.43s/it]\n",
            "INFO:root:Train accuracy: 0.105000\n",
            "  0%|          | 0/1 [00:00<?, ?it/s]"
          ],
          "name": "stderr"
        },
        {
          "output_type": "stream",
          "text": [
            "training time: 2.8691117763519287\n"
          ],
          "name": "stdout"
        },
        {
          "output_type": "stream",
          "text": [
            "(=> Test) Score: 0.1050: 100%|██████████| 1/1 [00:01<00:00,  1.47s/it]\n",
            "INFO:root:Validation accuracy: 0.105000\n",
            "INFO:root:##################################################\n",
            "INFO:root:Epoch [3/50]\n",
            "(=> Training) Loss: 2.2971: 100%|██████████| 2/2 [00:02<00:00,  1.42s/it]\n",
            "INFO:root:Train accuracy: 0.102500\n",
            "  0%|          | 0/1 [00:00<?, ?it/s]"
          ],
          "name": "stderr"
        },
        {
          "output_type": "stream",
          "text": [
            "training time: 2.8423900604248047\n"
          ],
          "name": "stdout"
        },
        {
          "output_type": "stream",
          "text": [
            "(=> Test) Score: 0.1100: 100%|██████████| 1/1 [00:01<00:00,  1.46s/it]\n",
            "INFO:root:Validation accuracy: 0.110000\n",
            "INFO:root:##################################################\n",
            "INFO:root:Epoch [4/50]\n",
            "(=> Training) Loss: 2.2944: 100%|██████████| 2/2 [00:02<00:00,  1.42s/it]\n",
            "INFO:root:Train accuracy: 0.110000\n",
            "  0%|          | 0/1 [00:00<?, ?it/s]"
          ],
          "name": "stderr"
        },
        {
          "output_type": "stream",
          "text": [
            "training time: 2.851555347442627\n"
          ],
          "name": "stdout"
        },
        {
          "output_type": "stream",
          "text": [
            "(=> Test) Score: 0.1150: 100%|██████████| 1/1 [00:01<00:00,  1.44s/it]\n",
            "INFO:root:Validation accuracy: 0.115000\n",
            "INFO:root:##################################################\n",
            "INFO:root:Epoch [5/50]\n",
            "(=> Training) Loss: 2.2919: 100%|██████████| 2/2 [00:02<00:00,  1.42s/it]\n",
            "INFO:root:Train accuracy: 0.120000\n",
            "  0%|          | 0/1 [00:00<?, ?it/s]"
          ],
          "name": "stderr"
        },
        {
          "output_type": "stream",
          "text": [
            "training time: 2.8510921001434326\n"
          ],
          "name": "stdout"
        },
        {
          "output_type": "stream",
          "text": [
            "(=> Test) Score: 0.1400: 100%|██████████| 1/1 [00:01<00:00,  1.42s/it]\n",
            "INFO:root:Validation accuracy: 0.140000\n",
            "INFO:root:##################################################\n",
            "INFO:root:Epoch [6/50]\n",
            "(=> Training) Loss: 2.2897: 100%|██████████| 2/2 [00:02<00:00,  1.43s/it]\n",
            "INFO:root:Train accuracy: 0.142500\n",
            "  0%|          | 0/1 [00:00<?, ?it/s]"
          ],
          "name": "stderr"
        },
        {
          "output_type": "stream",
          "text": [
            "training time: 2.87168288230896\n"
          ],
          "name": "stdout"
        },
        {
          "output_type": "stream",
          "text": [
            "(=> Test) Score: 0.1450: 100%|██████████| 1/1 [00:01<00:00,  1.41s/it]\n",
            "INFO:root:Validation accuracy: 0.145000\n",
            "INFO:root:##################################################\n",
            "INFO:root:Epoch [7/50]\n",
            "(=> Training) Loss: 2.2868: 100%|██████████| 2/2 [00:02<00:00,  1.40s/it]\n",
            "INFO:root:Train accuracy: 0.160000\n",
            "  0%|          | 0/1 [00:00<?, ?it/s]"
          ],
          "name": "stderr"
        },
        {
          "output_type": "stream",
          "text": [
            "training time: 2.81400465965271\n"
          ],
          "name": "stdout"
        },
        {
          "output_type": "stream",
          "text": [
            "(=> Test) Score: 0.1700: 100%|██████████| 1/1 [00:01<00:00,  1.41s/it]\n",
            "INFO:root:Validation accuracy: 0.170000\n",
            "INFO:root:##################################################\n",
            "INFO:root:Epoch [8/50]\n",
            "(=> Training) Loss: 2.2838: 100%|██████████| 2/2 [00:02<00:00,  1.41s/it]\n",
            "INFO:root:Train accuracy: 0.162500\n",
            "  0%|          | 0/1 [00:00<?, ?it/s]"
          ],
          "name": "stderr"
        },
        {
          "output_type": "stream",
          "text": [
            "training time: 2.8245058059692383\n"
          ],
          "name": "stdout"
        },
        {
          "output_type": "stream",
          "text": [
            "(=> Test) Score: 0.1600: 100%|██████████| 1/1 [00:01<00:00,  1.44s/it]\n",
            "INFO:root:Validation accuracy: 0.160000\n",
            "INFO:root:##################################################\n",
            "INFO:root:Epoch [9/50]\n",
            "(=> Training) Loss: 2.2812: 100%|██████████| 2/2 [00:02<00:00,  1.46s/it]\n",
            "INFO:root:Train accuracy: 0.165000\n",
            "  0%|          | 0/1 [00:00<?, ?it/s]"
          ],
          "name": "stderr"
        },
        {
          "output_type": "stream",
          "text": [
            "training time: 2.929589033126831\n"
          ],
          "name": "stdout"
        },
        {
          "output_type": "stream",
          "text": [
            "(=> Test) Score: 0.2000: 100%|██████████| 1/1 [00:01<00:00,  1.50s/it]\n",
            "INFO:root:Validation accuracy: 0.200000\n",
            "INFO:root:##################################################\n",
            "INFO:root:Epoch [10/50]\n",
            "(=> Training) Loss: 2.2785: 100%|██████████| 2/2 [00:02<00:00,  1.47s/it]\n",
            "INFO:root:Train accuracy: 0.182500\n",
            "  0%|          | 0/1 [00:00<?, ?it/s]"
          ],
          "name": "stderr"
        },
        {
          "output_type": "stream",
          "text": [
            "training time: 2.955070972442627\n"
          ],
          "name": "stdout"
        },
        {
          "output_type": "stream",
          "text": [
            "(=> Test) Score: 0.2050: 100%|██████████| 1/1 [00:01<00:00,  1.40s/it]\n",
            "INFO:root:Validation accuracy: 0.205000\n",
            "INFO:root:##################################################\n",
            "INFO:root:Epoch [11/50]\n",
            "(=> Training) Loss: 2.2757: 100%|██████████| 2/2 [00:02<00:00,  1.39s/it]\n",
            "INFO:root:Train accuracy: 0.182500\n",
            "  0%|          | 0/1 [00:00<?, ?it/s]"
          ],
          "name": "stderr"
        },
        {
          "output_type": "stream",
          "text": [
            "training time: 2.778059720993042\n"
          ],
          "name": "stdout"
        },
        {
          "output_type": "stream",
          "text": [
            "(=> Test) Score: 0.1950: 100%|██████████| 1/1 [00:01<00:00,  1.41s/it]\n",
            "INFO:root:Validation accuracy: 0.195000\n",
            "INFO:root:##################################################\n",
            "INFO:root:Epoch [12/50]\n",
            "(=> Training) Loss: 2.2728: 100%|██████████| 2/2 [00:02<00:00,  1.38s/it]\n",
            "INFO:root:Train accuracy: 0.212500\n",
            "  0%|          | 0/1 [00:00<?, ?it/s]"
          ],
          "name": "stderr"
        },
        {
          "output_type": "stream",
          "text": [
            "training time: 2.762622356414795\n"
          ],
          "name": "stdout"
        },
        {
          "output_type": "stream",
          "text": [
            "(=> Test) Score: 0.1900: 100%|██████████| 1/1 [00:01<00:00,  1.41s/it]\n",
            "INFO:root:Validation accuracy: 0.190000\n",
            "INFO:root:##################################################\n",
            "INFO:root:Epoch [13/50]\n",
            "(=> Training) Loss: 2.2697: 100%|██████████| 2/2 [00:02<00:00,  1.39s/it]\n",
            "INFO:root:Train accuracy: 0.212500\n",
            "  0%|          | 0/1 [00:00<?, ?it/s]"
          ],
          "name": "stderr"
        },
        {
          "output_type": "stream",
          "text": [
            "training time: 2.7880778312683105\n"
          ],
          "name": "stdout"
        },
        {
          "output_type": "stream",
          "text": [
            "(=> Test) Score: 0.2150: 100%|██████████| 1/1 [00:01<00:00,  1.43s/it]\n",
            "INFO:root:Validation accuracy: 0.215000\n",
            "INFO:root:##################################################\n",
            "INFO:root:Epoch [14/50]\n",
            "(=> Training) Loss: 2.2663: 100%|██████████| 2/2 [00:02<00:00,  1.43s/it]\n",
            "INFO:root:Train accuracy: 0.217500\n",
            "  0%|          | 0/1 [00:00<?, ?it/s]"
          ],
          "name": "stderr"
        },
        {
          "output_type": "stream",
          "text": [
            "training time: 2.866318941116333\n"
          ],
          "name": "stdout"
        },
        {
          "output_type": "stream",
          "text": [
            "(=> Test) Score: 0.2300: 100%|██████████| 1/1 [00:01<00:00,  1.42s/it]\n",
            "INFO:root:Validation accuracy: 0.230000\n",
            "INFO:root:##################################################\n",
            "INFO:root:Epoch [15/50]\n",
            "(=> Training) Loss: 2.2628: 100%|██████████| 2/2 [00:02<00:00,  1.45s/it]\n",
            "INFO:root:Train accuracy: 0.245000\n",
            "  0%|          | 0/1 [00:00<?, ?it/s]"
          ],
          "name": "stderr"
        },
        {
          "output_type": "stream",
          "text": [
            "training time: 2.9098598957061768\n"
          ],
          "name": "stdout"
        },
        {
          "output_type": "stream",
          "text": [
            "(=> Test) Score: 0.2200: 100%|██████████| 1/1 [00:01<00:00,  1.41s/it]\n",
            "INFO:root:Validation accuracy: 0.220000\n",
            "INFO:root:##################################################\n",
            "INFO:root:Epoch [16/50]\n",
            "(=> Training) Loss: 2.2593: 100%|██████████| 2/2 [00:02<00:00,  1.46s/it]\n",
            "INFO:root:Train accuracy: 0.262500\n",
            "  0%|          | 0/1 [00:00<?, ?it/s]"
          ],
          "name": "stderr"
        },
        {
          "output_type": "stream",
          "text": [
            "training time: 2.9234328269958496\n"
          ],
          "name": "stdout"
        },
        {
          "output_type": "stream",
          "text": [
            "(=> Test) Score: 0.2150: 100%|██████████| 1/1 [00:01<00:00,  1.42s/it]\n",
            "INFO:root:Validation accuracy: 0.215000\n",
            "INFO:root:##################################################\n",
            "INFO:root:Epoch [17/50]\n",
            "(=> Training) Loss: 2.2560: 100%|██████████| 2/2 [00:02<00:00,  1.41s/it]\n",
            "INFO:root:Train accuracy: 0.277500\n",
            "  0%|          | 0/1 [00:00<?, ?it/s]"
          ],
          "name": "stderr"
        },
        {
          "output_type": "stream",
          "text": [
            "training time: 2.8246970176696777\n"
          ],
          "name": "stdout"
        },
        {
          "output_type": "stream",
          "text": [
            "(=> Test) Score: 0.2350: 100%|██████████| 1/1 [00:01<00:00,  1.41s/it]\n",
            "INFO:root:Validation accuracy: 0.235000\n",
            "INFO:root:##################################################\n",
            "INFO:root:Epoch [18/50]\n",
            "(=> Training) Loss: 2.2533: 100%|██████████| 2/2 [00:02<00:00,  1.40s/it]\n",
            "INFO:root:Train accuracy: 0.277500\n",
            "  0%|          | 0/1 [00:00<?, ?it/s]"
          ],
          "name": "stderr"
        },
        {
          "output_type": "stream",
          "text": [
            "training time: 2.8016703128814697\n"
          ],
          "name": "stdout"
        },
        {
          "output_type": "stream",
          "text": [
            "(=> Test) Score: 0.2600: 100%|██████████| 1/1 [00:01<00:00,  1.45s/it]\n",
            "INFO:root:Validation accuracy: 0.260000\n",
            "INFO:root:##################################################\n",
            "INFO:root:Epoch [19/50]\n",
            "(=> Training) Loss: 2.2491: 100%|██████████| 2/2 [00:02<00:00,  1.43s/it]\n",
            "INFO:root:Train accuracy: 0.280000\n",
            "  0%|          | 0/1 [00:00<?, ?it/s]"
          ],
          "name": "stderr"
        },
        {
          "output_type": "stream",
          "text": [
            "training time: 2.8600521087646484\n"
          ],
          "name": "stdout"
        },
        {
          "output_type": "stream",
          "text": [
            "(=> Test) Score: 0.2500: 100%|██████████| 1/1 [00:01<00:00,  1.42s/it]\n",
            "INFO:root:Validation accuracy: 0.250000\n",
            "INFO:root:##################################################\n",
            "INFO:root:Epoch [20/50]\n",
            "(=> Training) Loss: 2.2454: 100%|██████████| 2/2 [00:02<00:00,  1.41s/it]\n",
            "INFO:root:Train accuracy: 0.300000\n",
            "  0%|          | 0/1 [00:00<?, ?it/s]"
          ],
          "name": "stderr"
        },
        {
          "output_type": "stream",
          "text": [
            "training time: 2.813399314880371\n"
          ],
          "name": "stdout"
        },
        {
          "output_type": "stream",
          "text": [
            "(=> Test) Score: 0.2800: 100%|██████████| 1/1 [00:01<00:00,  1.40s/it]\n",
            "INFO:root:Validation accuracy: 0.280000\n",
            "INFO:root:##################################################\n",
            "INFO:root:Epoch [21/50]\n",
            "(=> Training) Loss: 2.2414: 100%|██████████| 2/2 [00:02<00:00,  1.41s/it]\n",
            "INFO:root:Train accuracy: 0.330000\n",
            "  0%|          | 0/1 [00:00<?, ?it/s]"
          ],
          "name": "stderr"
        },
        {
          "output_type": "stream",
          "text": [
            "training time: 2.821505069732666\n"
          ],
          "name": "stdout"
        },
        {
          "output_type": "stream",
          "text": [
            "(=> Test) Score: 0.2950: 100%|██████████| 1/1 [00:01<00:00,  1.39s/it]\n",
            "INFO:root:Validation accuracy: 0.295000\n",
            "INFO:root:##################################################\n",
            "INFO:root:Epoch [22/50]\n",
            "(=> Training) Loss: 2.2379: 100%|██████████| 2/2 [00:02<00:00,  1.40s/it]\n",
            "INFO:root:Train accuracy: 0.332500\n",
            "  0%|          | 0/1 [00:00<?, ?it/s]"
          ],
          "name": "stderr"
        },
        {
          "output_type": "stream",
          "text": [
            "training time: 2.8092780113220215\n"
          ],
          "name": "stdout"
        },
        {
          "output_type": "stream",
          "text": [
            "(=> Test) Score: 0.3000: 100%|██████████| 1/1 [00:01<00:00,  1.39s/it]\n",
            "INFO:root:Validation accuracy: 0.300000\n",
            "INFO:root:##################################################\n",
            "INFO:root:Epoch [23/50]\n",
            "(=> Training) Loss: 2.2337: 100%|██████████| 2/2 [00:02<00:00,  1.42s/it]\n",
            "INFO:root:Train accuracy: 0.350000\n",
            "  0%|          | 0/1 [00:00<?, ?it/s]"
          ],
          "name": "stderr"
        },
        {
          "output_type": "stream",
          "text": [
            "training time: 2.832216739654541\n"
          ],
          "name": "stdout"
        },
        {
          "output_type": "stream",
          "text": [
            "(=> Test) Score: 0.3250: 100%|██████████| 1/1 [00:01<00:00,  1.41s/it]\n",
            "INFO:root:Validation accuracy: 0.325000\n",
            "INFO:root:##################################################\n",
            "INFO:root:Epoch [24/50]\n",
            "(=> Training) Loss: 2.2299: 100%|██████████| 2/2 [00:02<00:00,  1.40s/it]\n",
            "INFO:root:Train accuracy: 0.362500\n",
            "  0%|          | 0/1 [00:00<?, ?it/s]"
          ],
          "name": "stderr"
        },
        {
          "output_type": "stream",
          "text": [
            "training time: 2.7980730533599854\n"
          ],
          "name": "stdout"
        },
        {
          "output_type": "stream",
          "text": [
            "(=> Test) Score: 0.3550: 100%|██████████| 1/1 [00:01<00:00,  1.44s/it]\n",
            "INFO:root:Validation accuracy: 0.355000\n",
            "INFO:root:##################################################\n",
            "INFO:root:Epoch [25/50]\n",
            "(=> Training) Loss: 2.2254: 100%|██████████| 2/2 [00:02<00:00,  1.38s/it]\n",
            "INFO:root:Train accuracy: 0.392500\n",
            "  0%|          | 0/1 [00:00<?, ?it/s]"
          ],
          "name": "stderr"
        },
        {
          "output_type": "stream",
          "text": [
            "training time: 2.763021230697632\n"
          ],
          "name": "stdout"
        },
        {
          "output_type": "stream",
          "text": [
            "(=> Test) Score: 0.3600: 100%|██████████| 1/1 [00:01<00:00,  1.42s/it]\n",
            "INFO:root:Validation accuracy: 0.360000\n",
            "INFO:root:##################################################\n",
            "INFO:root:Epoch [26/50]\n",
            "(=> Training) Loss: 2.2198: 100%|██████████| 2/2 [00:02<00:00,  1.40s/it]\n",
            "INFO:root:Train accuracy: 0.407500\n",
            "  0%|          | 0/1 [00:00<?, ?it/s]"
          ],
          "name": "stderr"
        },
        {
          "output_type": "stream",
          "text": [
            "training time: 2.8145036697387695\n"
          ],
          "name": "stdout"
        },
        {
          "output_type": "stream",
          "text": [
            "(=> Test) Score: 0.3550: 100%|██████████| 1/1 [00:01<00:00,  1.45s/it]\n",
            "INFO:root:Validation accuracy: 0.355000\n",
            "INFO:root:##################################################\n",
            "INFO:root:Epoch [27/50]\n",
            "(=> Training) Loss: 2.2167: 100%|██████████| 2/2 [00:02<00:00,  1.41s/it]\n",
            "INFO:root:Train accuracy: 0.437500\n",
            "  0%|          | 0/1 [00:00<?, ?it/s]"
          ],
          "name": "stderr"
        },
        {
          "output_type": "stream",
          "text": [
            "training time: 2.821140766143799\n"
          ],
          "name": "stdout"
        },
        {
          "output_type": "stream",
          "text": [
            "(=> Test) Score: 0.4000: 100%|██████████| 1/1 [00:01<00:00,  1.43s/it]\n",
            "INFO:root:Validation accuracy: 0.400000\n",
            "INFO:root:##################################################\n",
            "INFO:root:Epoch [28/50]\n",
            "(=> Training) Loss: 2.2110: 100%|██████████| 2/2 [00:02<00:00,  1.44s/it]\n",
            "INFO:root:Train accuracy: 0.470000\n",
            "  0%|          | 0/1 [00:00<?, ?it/s]"
          ],
          "name": "stderr"
        },
        {
          "output_type": "stream",
          "text": [
            "training time: 2.885220527648926\n"
          ],
          "name": "stdout"
        },
        {
          "output_type": "stream",
          "text": [
            "(=> Test) Score: 0.3950: 100%|██████████| 1/1 [00:01<00:00,  1.40s/it]\n",
            "INFO:root:Validation accuracy: 0.395000\n",
            "INFO:root:##################################################\n",
            "INFO:root:Epoch [29/50]\n",
            "(=> Training) Loss: 2.2067: 100%|██████████| 2/2 [00:02<00:00,  1.40s/it]\n",
            "INFO:root:Train accuracy: 0.472500\n",
            "  0%|          | 0/1 [00:00<?, ?it/s]"
          ],
          "name": "stderr"
        },
        {
          "output_type": "stream",
          "text": [
            "training time: 2.8011276721954346\n"
          ],
          "name": "stdout"
        },
        {
          "output_type": "stream",
          "text": [
            "(=> Test) Score: 0.3900: 100%|██████████| 1/1 [00:01<00:00,  1.45s/it]\n",
            "INFO:root:Validation accuracy: 0.390000\n",
            "INFO:root:##################################################\n",
            "INFO:root:Epoch [30/50]\n",
            "(=> Training) Loss: 2.2001: 100%|██████████| 2/2 [00:02<00:00,  1.39s/it]\n",
            "INFO:root:Train accuracy: 0.477500\n",
            "  0%|          | 0/1 [00:00<?, ?it/s]"
          ],
          "name": "stderr"
        },
        {
          "output_type": "stream",
          "text": [
            "training time: 2.7943522930145264\n"
          ],
          "name": "stdout"
        },
        {
          "output_type": "stream",
          "text": [
            "(=> Test) Score: 0.4050: 100%|██████████| 1/1 [00:01<00:00,  1.45s/it]\n",
            "INFO:root:Validation accuracy: 0.405000\n",
            "INFO:root:##################################################\n",
            "INFO:root:Epoch [31/50]\n",
            "(=> Training) Loss: 2.1954: 100%|██████████| 2/2 [00:02<00:00,  1.41s/it]\n",
            "INFO:root:Train accuracy: 0.477500\n",
            "  0%|          | 0/1 [00:00<?, ?it/s]"
          ],
          "name": "stderr"
        },
        {
          "output_type": "stream",
          "text": [
            "training time: 2.832366466522217\n"
          ],
          "name": "stdout"
        },
        {
          "output_type": "stream",
          "text": [
            "(=> Test) Score: 0.3950: 100%|██████████| 1/1 [00:01<00:00,  1.39s/it]\n",
            "INFO:root:Validation accuracy: 0.395000\n",
            "INFO:root:##################################################\n",
            "INFO:root:Epoch [32/50]\n",
            "(=> Training) Loss: 2.1891: 100%|██████████| 2/2 [00:02<00:00,  1.40s/it]\n",
            "INFO:root:Train accuracy: 0.460000\n",
            "  0%|          | 0/1 [00:00<?, ?it/s]"
          ],
          "name": "stderr"
        },
        {
          "output_type": "stream",
          "text": [
            "training time: 2.801359176635742\n"
          ],
          "name": "stdout"
        },
        {
          "output_type": "stream",
          "text": [
            "(=> Test) Score: 0.3900: 100%|██████████| 1/1 [00:01<00:00,  1.43s/it]\n",
            "INFO:root:Validation accuracy: 0.390000\n",
            "INFO:root:##################################################\n",
            "INFO:root:Epoch [33/50]\n",
            "(=> Training) Loss: 2.1845: 100%|██████████| 2/2 [00:02<00:00,  1.43s/it]\n",
            "INFO:root:Train accuracy: 0.472500\n",
            "  0%|          | 0/1 [00:00<?, ?it/s]"
          ],
          "name": "stderr"
        },
        {
          "output_type": "stream",
          "text": [
            "training time: 2.8536417484283447\n"
          ],
          "name": "stdout"
        },
        {
          "output_type": "stream",
          "text": [
            "(=> Test) Score: 0.4100: 100%|██████████| 1/1 [00:01<00:00,  1.44s/it]\n",
            "INFO:root:Validation accuracy: 0.410000\n",
            "INFO:root:##################################################\n",
            "INFO:root:Epoch [34/50]\n",
            "(=> Training) Loss: 2.1787: 100%|██████████| 2/2 [00:02<00:00,  1.44s/it]\n",
            "INFO:root:Train accuracy: 0.465000\n",
            "  0%|          | 0/1 [00:00<?, ?it/s]"
          ],
          "name": "stderr"
        },
        {
          "output_type": "stream",
          "text": [
            "training time: 2.8790836334228516\n"
          ],
          "name": "stdout"
        },
        {
          "output_type": "stream",
          "text": [
            "(=> Test) Score: 0.3800: 100%|██████████| 1/1 [00:01<00:00,  1.45s/it]\n",
            "INFO:root:Validation accuracy: 0.380000\n",
            "INFO:root:##################################################\n",
            "INFO:root:Epoch [35/50]\n",
            "(=> Training) Loss: 2.1730: 100%|██████████| 2/2 [00:02<00:00,  1.41s/it]\n",
            "INFO:root:Train accuracy: 0.452500\n",
            "  0%|          | 0/1 [00:00<?, ?it/s]"
          ],
          "name": "stderr"
        },
        {
          "output_type": "stream",
          "text": [
            "training time: 2.8200645446777344\n"
          ],
          "name": "stdout"
        },
        {
          "output_type": "stream",
          "text": [
            "(=> Test) Score: 0.3900: 100%|██████████| 1/1 [00:01<00:00,  1.44s/it]\n",
            "INFO:root:Validation accuracy: 0.390000\n",
            "INFO:root:##################################################\n",
            "INFO:root:Epoch [36/50]\n",
            "(=> Training) Loss: 2.1677: 100%|██████████| 2/2 [00:02<00:00,  1.40s/it]\n",
            "INFO:root:Train accuracy: 0.440000\n",
            "  0%|          | 0/1 [00:00<?, ?it/s]"
          ],
          "name": "stderr"
        },
        {
          "output_type": "stream",
          "text": [
            "training time: 2.8082709312438965\n"
          ],
          "name": "stdout"
        },
        {
          "output_type": "stream",
          "text": [
            "(=> Test) Score: 0.4000: 100%|██████████| 1/1 [00:01<00:00,  1.42s/it]\n",
            "INFO:root:Validation accuracy: 0.400000\n",
            "INFO:root:##################################################\n",
            "INFO:root:Epoch [37/50]\n",
            "(=> Training) Loss: 2.1594: 100%|██████████| 2/2 [00:02<00:00,  1.39s/it]\n",
            "INFO:root:Train accuracy: 0.450000\n",
            "  0%|          | 0/1 [00:00<?, ?it/s]"
          ],
          "name": "stderr"
        },
        {
          "output_type": "stream",
          "text": [
            "training time: 2.779683828353882\n"
          ],
          "name": "stdout"
        },
        {
          "output_type": "stream",
          "text": [
            "(=> Test) Score: 0.3800: 100%|██████████| 1/1 [00:01<00:00,  1.39s/it]\n",
            "INFO:root:Validation accuracy: 0.380000\n",
            "INFO:root:##################################################\n",
            "INFO:root:Epoch [38/50]\n",
            "(=> Training) Loss: 2.1533: 100%|██████████| 2/2 [00:02<00:00,  1.48s/it]\n",
            "INFO:root:Train accuracy: 0.455000\n",
            "  0%|          | 0/1 [00:00<?, ?it/s]"
          ],
          "name": "stderr"
        },
        {
          "output_type": "stream",
          "text": [
            "training time: 2.9736251831054688\n"
          ],
          "name": "stdout"
        },
        {
          "output_type": "stream",
          "text": [
            "(=> Test) Score: 0.4050: 100%|██████████| 1/1 [00:01<00:00,  1.50s/it]\n",
            "INFO:root:Validation accuracy: 0.405000\n",
            "INFO:root:##################################################\n",
            "INFO:root:Epoch [39/50]\n",
            "(=> Training) Loss: 2.1471: 100%|██████████| 2/2 [00:03<00:00,  1.52s/it]\n",
            "INFO:root:Train accuracy: 0.447500\n",
            "  0%|          | 0/1 [00:00<?, ?it/s]"
          ],
          "name": "stderr"
        },
        {
          "output_type": "stream",
          "text": [
            "training time: 3.049684762954712\n"
          ],
          "name": "stdout"
        },
        {
          "output_type": "stream",
          "text": [
            "(=> Test) Score: 0.3900: 100%|██████████| 1/1 [00:01<00:00,  1.52s/it]\n",
            "INFO:root:Validation accuracy: 0.390000\n",
            "INFO:root:##################################################\n",
            "INFO:root:Epoch [40/50]\n",
            "(=> Training) Loss: 2.1393: 100%|██████████| 2/2 [00:02<00:00,  1.50s/it]\n",
            "INFO:root:Train accuracy: 0.450000\n",
            "  0%|          | 0/1 [00:00<?, ?it/s]"
          ],
          "name": "stderr"
        },
        {
          "output_type": "stream",
          "text": [
            "training time: 2.9952316284179688\n"
          ],
          "name": "stdout"
        },
        {
          "output_type": "stream",
          "text": [
            "(=> Test) Score: 0.4100: 100%|██████████| 1/1 [00:01<00:00,  1.41s/it]\n",
            "INFO:root:Validation accuracy: 0.410000\n",
            "INFO:root:##################################################\n",
            "INFO:root:Epoch [41/50]\n",
            "(=> Training) Loss: 2.1340: 100%|██████████| 2/2 [00:02<00:00,  1.39s/it]\n",
            "INFO:root:Train accuracy: 0.452500\n",
            "  0%|          | 0/1 [00:00<?, ?it/s]"
          ],
          "name": "stderr"
        },
        {
          "output_type": "stream",
          "text": [
            "training time: 2.7817165851593018\n"
          ],
          "name": "stdout"
        },
        {
          "output_type": "stream",
          "text": [
            "(=> Test) Score: 0.4150: 100%|██████████| 1/1 [00:01<00:00,  1.40s/it]\n",
            "INFO:root:Validation accuracy: 0.415000\n",
            "INFO:root:##################################################\n",
            "INFO:root:Epoch [42/50]\n",
            "(=> Training) Loss: 2.1258: 100%|██████████| 2/2 [00:02<00:00,  1.40s/it]\n",
            "INFO:root:Train accuracy: 0.470000\n",
            "  0%|          | 0/1 [00:00<?, ?it/s]"
          ],
          "name": "stderr"
        },
        {
          "output_type": "stream",
          "text": [
            "training time: 2.8033320903778076\n"
          ],
          "name": "stdout"
        },
        {
          "output_type": "stream",
          "text": [
            "(=> Test) Score: 0.4200: 100%|██████████| 1/1 [00:01<00:00,  1.43s/it]\n",
            "INFO:root:Validation accuracy: 0.420000\n",
            "INFO:root:##################################################\n",
            "INFO:root:Epoch [43/50]\n",
            "(=> Training) Loss: 2.1182: 100%|██████████| 2/2 [00:02<00:00,  1.40s/it]\n",
            "INFO:root:Train accuracy: 0.460000\n",
            "  0%|          | 0/1 [00:00<?, ?it/s]"
          ],
          "name": "stderr"
        },
        {
          "output_type": "stream",
          "text": [
            "training time: 2.811433792114258\n"
          ],
          "name": "stdout"
        },
        {
          "output_type": "stream",
          "text": [
            "(=> Test) Score: 0.4300: 100%|██████████| 1/1 [00:01<00:00,  1.40s/it]\n",
            "INFO:root:Validation accuracy: 0.430000\n",
            "INFO:root:##################################################\n",
            "INFO:root:Epoch [44/50]\n",
            "(=> Training) Loss: 2.1083: 100%|██████████| 2/2 [00:02<00:00,  1.39s/it]\n",
            "INFO:root:Train accuracy: 0.487500\n",
            "  0%|          | 0/1 [00:00<?, ?it/s]"
          ],
          "name": "stderr"
        },
        {
          "output_type": "stream",
          "text": [
            "training time: 2.781386137008667\n"
          ],
          "name": "stdout"
        },
        {
          "output_type": "stream",
          "text": [
            "(=> Test) Score: 0.4350: 100%|██████████| 1/1 [00:01<00:00,  1.42s/it]\n",
            "INFO:root:Validation accuracy: 0.435000\n",
            "INFO:root:##################################################\n",
            "INFO:root:Epoch [45/50]\n",
            "(=> Training) Loss: 2.1036: 100%|██████████| 2/2 [00:02<00:00,  1.39s/it]\n",
            "INFO:root:Train accuracy: 0.477500\n",
            "  0%|          | 0/1 [00:00<?, ?it/s]"
          ],
          "name": "stderr"
        },
        {
          "output_type": "stream",
          "text": [
            "training time: 2.7893991470336914\n"
          ],
          "name": "stdout"
        },
        {
          "output_type": "stream",
          "text": [
            "(=> Test) Score: 0.4200: 100%|██████████| 1/1 [00:01<00:00,  1.39s/it]\n",
            "INFO:root:Validation accuracy: 0.420000\n",
            "INFO:root:##################################################\n",
            "INFO:root:Epoch [46/50]\n",
            "(=> Training) Loss: 2.0919: 100%|██████████| 2/2 [00:02<00:00,  1.41s/it]\n",
            "INFO:root:Train accuracy: 0.467500\n",
            "  0%|          | 0/1 [00:00<?, ?it/s]"
          ],
          "name": "stderr"
        },
        {
          "output_type": "stream",
          "text": [
            "training time: 2.8281118869781494\n"
          ],
          "name": "stdout"
        },
        {
          "output_type": "stream",
          "text": [
            "(=> Test) Score: 0.4200: 100%|██████████| 1/1 [00:01<00:00,  1.41s/it]\n",
            "INFO:root:Validation accuracy: 0.420000\n",
            "INFO:root:##################################################\n",
            "INFO:root:Epoch [47/50]\n",
            "(=> Training) Loss: 2.0873: 100%|██████████| 2/2 [00:02<00:00,  1.40s/it]\n",
            "INFO:root:Train accuracy: 0.452500\n",
            "  0%|          | 0/1 [00:00<?, ?it/s]"
          ],
          "name": "stderr"
        },
        {
          "output_type": "stream",
          "text": [
            "training time: 2.8047709465026855\n"
          ],
          "name": "stdout"
        },
        {
          "output_type": "stream",
          "text": [
            "(=> Test) Score: 0.3900: 100%|██████████| 1/1 [00:01<00:00,  1.40s/it]\n",
            "INFO:root:Validation accuracy: 0.390000\n",
            "INFO:root:##################################################\n",
            "INFO:root:Epoch [48/50]\n",
            "(=> Training) Loss: 2.0806: 100%|██████████| 2/2 [00:02<00:00,  1.40s/it]\n",
            "INFO:root:Train accuracy: 0.427500\n",
            "  0%|          | 0/1 [00:00<?, ?it/s]"
          ],
          "name": "stderr"
        },
        {
          "output_type": "stream",
          "text": [
            "training time: 2.8038346767425537\n"
          ],
          "name": "stdout"
        },
        {
          "output_type": "stream",
          "text": [
            "(=> Test) Score: 0.3950: 100%|██████████| 1/1 [00:01<00:00,  1.42s/it]\n",
            "INFO:root:Validation accuracy: 0.395000\n",
            "INFO:root:##################################################\n",
            "INFO:root:Epoch [49/50]\n",
            "(=> Training) Loss: 2.0670: 100%|██████████| 2/2 [00:02<00:00,  1.42s/it]\n",
            "INFO:root:Train accuracy: 0.425000\n",
            "  0%|          | 0/1 [00:00<?, ?it/s]"
          ],
          "name": "stderr"
        },
        {
          "output_type": "stream",
          "text": [
            "training time: 2.8492393493652344\n"
          ],
          "name": "stdout"
        },
        {
          "output_type": "stream",
          "text": [
            "(=> Test) Score: 0.4050: 100%|██████████| 1/1 [00:01<00:00,  1.40s/it]\n",
            "INFO:root:Validation accuracy: 0.405000\n",
            "INFO:root:##################################################\n",
            "INFO:root:Epoch [50/50]\n",
            "(=> Training) Loss: 2.0592: 100%|██████████| 2/2 [00:02<00:00,  1.42s/it]\n",
            "INFO:root:Train accuracy: 0.430000\n",
            "  0%|          | 0/1 [00:00<?, ?it/s]"
          ],
          "name": "stderr"
        },
        {
          "output_type": "stream",
          "text": [
            "training time: 2.850365400314331\n"
          ],
          "name": "stdout"
        },
        {
          "output_type": "stream",
          "text": [
            "(=> Test) Score: 0.4450: 100%|██████████| 1/1 [00:01<00:00,  1.41s/it]\n",
            "INFO:root:Validation accuracy: 0.445000\n",
            "INFO:root:Accuracy at each epoch: [0.10999999940395355, 0.10499999672174454, 0.10999999940395355, 0.11499999463558197, 0.14000000059604645, 0.14499999582767487, 0.17000000178813934, 0.1599999964237213, 0.19999998807907104, 0.20499999821186066, 0.19499999284744263, 0.1899999976158142, 0.2149999886751175, 0.22999998927116394, 0.2199999988079071, 0.2149999886751175, 0.23499999940395355, 0.25999999046325684, 0.25, 0.2800000011920929, 0.29499998688697815, 0.29999998211860657, 0.32499998807907104, 0.35499998927116394, 0.35999998450279236, 0.35499998927116394, 0.3999999761581421, 0.39499998092651367, 0.38999998569488525, 0.4050000011920929, 0.39499998092651367, 0.38999998569488525, 0.4099999964237213, 0.3799999952316284, 0.38999998569488525, 0.3999999761581421, 0.3799999952316284, 0.4050000011920929, 0.38999998569488525, 0.4099999964237213, 0.41499999165534973, 0.41999998688697815, 0.429999977350235, 0.4350000023841858, 0.41999998688697815, 0.41999998688697815, 0.38999998569488525, 0.39499998092651367, 0.4050000011920929, 0.4449999928474426]\n",
            "INFO:root:Mean of accuracies across all epochs: 30.909999147057533%\n",
            "INFO:root:Accuracy of model at final epoch: 44.49999928474426%\n"
          ],
          "name": "stderr"
        }
      ]
    }
  ]
}